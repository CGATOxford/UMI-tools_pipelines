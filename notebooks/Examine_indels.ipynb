{
 "cells": [
  {
   "cell_type": "code",
   "execution_count": 1,
   "metadata": {
    "collapsed": false
   },
   "outputs": [
    {
     "name": "stderr",
     "output_type": "stream",
     "text": [
      "/shared/conda-install/envs/cgat-devel-lite/lib/python2.7/site-packages/rpy2/robjects/robject.py:6: UserWarning: During startup - \n",
      "  rpy2.rinterface.initr()\n",
      "/shared/conda-install/envs/cgat-devel-lite/lib/python2.7/site-packages/rpy2/robjects/robject.py:6: UserWarning: Warning messages:\n",
      "\n",
      "  rpy2.rinterface.initr()\n",
      "/shared/conda-install/envs/cgat-devel-lite/lib/python2.7/site-packages/rpy2/robjects/robject.py:6: UserWarning: 1: package ‘methods’ was built under R version 3.2.4 \n",
      "\n",
      "  rpy2.rinterface.initr()\n",
      "/shared/conda-install/envs/cgat-devel-lite/lib/python2.7/site-packages/rpy2/robjects/robject.py:6: UserWarning: 2: package ‘datasets’ was built under R version 3.2.4 \n",
      "\n",
      "  rpy2.rinterface.initr()\n",
      "/shared/conda-install/envs/cgat-devel-lite/lib/python2.7/site-packages/rpy2/robjects/robject.py:6: UserWarning: 3: package ‘utils’ was built under R version 3.2.4 \n",
      "\n",
      "  rpy2.rinterface.initr()\n",
      "/shared/conda-install/envs/cgat-devel-lite/lib/python2.7/site-packages/rpy2/robjects/robject.py:6: UserWarning: 4: package ‘grDevices’ was built under R version 3.2.4 \n",
      "\n",
      "  rpy2.rinterface.initr()\n",
      "/shared/conda-install/envs/cgat-devel-lite/lib/python2.7/site-packages/rpy2/robjects/robject.py:6: UserWarning: 5: package ‘graphics’ was built under R version 3.2.4 \n",
      "\n",
      "  rpy2.rinterface.initr()\n",
      "/shared/conda-install/envs/cgat-devel-lite/lib/python2.7/site-packages/rpy2/robjects/robject.py:6: UserWarning: 6: package ‘stats’ was built under R version 3.2.4 \n",
      "\n",
      "  rpy2.rinterface.initr()\n"
     ]
    }
   ],
   "source": [
    "import pysam\n",
    "import collections\n",
    "import random\n",
    "import pandas as pd\n",
    "import numpy as np\n",
    "%load_ext rpy2.ipython\n"
   ]
  },
  {
   "cell_type": "code",
   "execution_count": 2,
   "metadata": {
    "collapsed": true
   },
   "outputs": [],
   "source": [
    "infile = \"/ifs/projects/ians/umisdeduping/iCLIP_deduping/SR_iCLIP_test3/mapping.dir/Nxf1-GFP-R1.bam\""
   ]
  },
  {
   "cell_type": "markdown",
   "metadata": {},
   "source": [
    "This notebook contains test code to examine whether indel mutations in UMIs present a substainal effect. To test this, we first recognise that a one base pair indel will suck a base of the actual genomic sequencing into the UMI, shifting the mapping position of the by one base, and including a genome determined base as the final base of the UMI.\n",
    "\n",
    "To test this we will parse the bam file and fill a dictionary: key=\"[contig][position]\", value= counter of UMIs for each position. Then we'll parse the dictionary keys and look to see whether the positions +1 exist in the dictionary keys. If they do, we'll compare the umi profiles between the postions. \n",
    "\n",
    "First we will filter for UMIs that have the genomic base in the final UMI position. Then we will check for each possible one bp deletion in the reference UMI and see if that UMI exists in the +1 position. We will calculate what % of the UMIs at the reference position exist as deletion versions at +1 and what % of reads at +1 are deletion versions releative to the reference base.\n",
    "\n",
    "This will then be compared to a random sample"
   ]
  },
  {
   "cell_type": "markdown",
   "metadata": {},
   "source": [
    "A function to calculate the fraction of the reference and plus 1 base UMIs that are part of deletion pairs, weighted by the frequency of each UMI."
   ]
  },
  {
   "cell_type": "code",
   "execution_count": 20,
   "metadata": {
    "collapsed": false
   },
   "outputs": [],
   "source": [
    "def getDelFraction(counter1, counter2, genomic_base):\n",
    "    ''' for two counters with string keys,\n",
    "    return the fraction of bases at counter2 that could be deletions cf conuter1'''\n",
    "    \n",
    "    umis1 = counter1.keys()\n",
    "    umis2 = counter2.keys()\n",
    "    \n",
    "    found1 = set()\n",
    "    found2 = set()\n",
    "    \n",
    "    filtered_set2 = set([umi[:-1] for umi in umis2 if umi[-1] == genomic_base])\n",
    "    for umi in umis1:\n",
    "        for i in range(len(umi)):\n",
    "            del_umi = umi[:i] + umi[i+1:]\n",
    "            if del_umi in filtered_set2:\n",
    "                found1.add(umi)\n",
    "                found2.add(del_umi+genomic_base)\n",
    "            \n",
    "    return  float(sum([counter1[umi] for umi in found1]))/sum(counter1.values())"
   ]
  },
  {
   "cell_type": "markdown",
   "metadata": {},
   "source": [
    "now a function to parse a bam and create the dictionary.\n",
    "\n",
    "Because whether we care about +1 or -1 and whether we want to rev comp the sequence or not, we will deal with plus and minus strands seperately. "
   ]
  },
  {
   "cell_type": "code",
   "execution_count": 4,
   "metadata": {
    "collapsed": false
   },
   "outputs": [],
   "source": [
    "def parse_samfile(infile):\n",
    "    '''Parses a bamfile and returns three dictionaries, the first is a dictionary of counters\n",
    "    with the count of each umi at each bases on each contig, the second is the first bases matched\n",
    "    reads at that position, and the third is the distribution of the UMIs in the file'''\n",
    "    insam = pysam.Samfile(infile, \"rb\")\n",
    "\n",
    "    umi_pos = collections.defaultdict(lambda:collections.defaultdict(lambda: collections.Counter()))\n",
    "    umi_dist=collections.Counter()\n",
    "    genomic_bases = collections.defaultdict(lambda: collections.defaultdict(str))\n",
    "    inreads = insam.fetch()\n",
    "    for read in inreads:\n",
    "        if read.is_unmapped:\n",
    "            continue\n",
    "\n",
    "        if read.mate_is_unmapped and paired:\n",
    "            continue\n",
    "\n",
    "        if read.is_read2:\n",
    "            continue\n",
    "\n",
    "        is_spliced = False\n",
    "\n",
    "        if read.is_reverse:\n",
    "            continue\n",
    "        \n",
    "        else:\n",
    "            pos = read.pos\n",
    "            if read.cigar[0][0] == 4:\n",
    "                pos = pos - read.cigar[0][1]\n",
    "            start = pos\n",
    "\n",
    "            if ('N' in read.cigarstring or\n",
    "                (read.cigar[-1][0] == 4 and\n",
    "                 read.cigar[-1][1] > soft_clip_threshold)):\n",
    "                is_spliced = True\n",
    "\n",
    "        umi = read.qname.split(\"_\")[-1]\n",
    "        chrom = insam.get_reference_name(read.tid)\n",
    "        umi_pos[chrom][pos][umi] += 1\n",
    "        umi_dist[umi] += 1\n",
    "        \n",
    "        if read.cigar[0][0] == 0:\n",
    "            genomic_bases[chrom][pos] = read.query_sequence[0]\n",
    "                \n",
    "    return umi_pos, umi_dist, genomic_bases"
   ]
  },
  {
   "cell_type": "markdown",
   "metadata": {},
   "source": [
    "Start with an undeduped sample. "
   ]
  },
  {
   "cell_type": "code",
   "execution_count": 46,
   "metadata": {
    "collapsed": false
   },
   "outputs": [],
   "source": [
    "undeduped_umi_pos, undeduped_umi_dist, undeduped_bases = parse_samfile(infile)"
   ]
  },
  {
   "cell_type": "code",
   "execution_count": 48,
   "metadata": {
    "collapsed": false
   },
   "outputs": [],
   "source": [
    "for i, position in enumerate(undeduped_umi_pos[\"chr1\"]):\n",
    "    if not position.__class__ is int(1).__class__:\n",
    "        print i, position\n",
    "        \n"
   ]
  },
  {
   "cell_type": "markdown",
   "metadata": {},
   "source": [
    "Now we need to go through each pair of adjecent positions and calculate the fraction of the UMIs at position +1 that could be explained as deletions of UMIs at the reference position. Then randomise the UMIs at the +1 position and do the same. "
   ]
  },
  {
   "cell_type": "code",
   "execution_count": 6,
   "metadata": {
    "collapsed": true
   },
   "outputs": [],
   "source": [
    "def randomise_position(umi_counter, umi_dist):\n",
    "    '''Takes a counter of UMI frequencies and create a randomised distribution by replacing the UMIs \n",
    "    in the input which UMIs sampled from the genomewide distribution'''\n",
    "    \n",
    "    return {umi: count for umi, count in \n",
    "            zip(np.random.choice(umi_dist[\"index\"], \n",
    "                                 size=len(umi_counter.keys()),\n",
    "                                 replace=False,\n",
    "                                 p=umi_dist[\"freq\"]),\n",
    "                                 umi_counter.values())}"
   ]
  },
  {
   "cell_type": "code",
   "execution_count": 52,
   "metadata": {
    "collapsed": false
   },
   "outputs": [],
   "source": [
    "def calculate_deletion_rate(umi_pos, umi_dist, genomic_bases):\n",
    "    '''Find positions where position+1 also has UMIs and calculate the deletion rate,\n",
    "    in comparision to randomised UMIs'''\n",
    "\n",
    "    # convert count umi_dist list to dataframe mapping umi to frequencies\n",
    "    umi_dist = pd.Series(umi_dist, name=\"count\").reset_index()\n",
    "    umi_dist[\"freq\"] = umi_dist[\"count\"]/umi_dist[\"count\"].sum()\n",
    "    \n",
    "    results_accumulator = []\n",
    "    random_accumulator = []\n",
    "    for contig in umi_pos:\n",
    "        for position in umi_pos[contig]:\n",
    "            if position+1 in umi_pos[contig]:\n",
    "                genomic_base = genomic_bases[contig][position]\n",
    "                if genomic_base == str():\n",
    "                    continue\n",
    "                this =  umi_pos[contig][position]\n",
    "                other = umi_pos[contig][position + 1]\n",
    "                \n",
    "                rand_other = randomise_position(other, umi_dist)\n",
    "                results_accumulator.append(getDelFraction(this, other, genomic_base))\n",
    "                random_accumulator.append(getDelFraction(this, rand_other, genomic_base))\n",
    "            \n",
    "    results_frame = pd.DataFrame({\"deletion_rate\": results_accumulator})\n",
    "    random_accumulator = pd.DataFrame({\"deletion_rate\": random_accumulator})\n",
    "\n",
    "    results_frame[\"random\"] = False\n",
    "    random_accumulator[\"random\"] = True\n",
    "\n",
    "    results_frame = pd.concat([results_frame, random_accumulator])\n",
    "    return results_frame\n",
    "\n"
   ]
  },
  {
   "cell_type": "code",
   "execution_count": 53,
   "metadata": {
    "collapsed": false
   },
   "outputs": [],
   "source": [
    "undeduped_deletion_rates = calculate_deletion_rate(undeduped_umi_pos, undeduped_umi_dist, undeduped_bases)"
   ]
  },
  {
   "cell_type": "markdown",
   "metadata": {},
   "source": [
    "Having calculated the deledtion rates, lets look at the distribution, for both randomised and non-randomised"
   ]
  },
  {
   "cell_type": "code",
   "execution_count": 60,
   "metadata": {
    "collapsed": false
   },
   "outputs": [
    {
     "data": {
      "text/html": [
       "<div>\n",
       "<table border=\"1\" class=\"dataframe\">\n",
       "  <thead>\n",
       "    <tr style=\"text-align: right;\">\n",
       "      <th></th>\n",
       "      <th></th>\n",
       "      <th>deletion_rate</th>\n",
       "    </tr>\n",
       "    <tr>\n",
       "      <th>random</th>\n",
       "      <th></th>\n",
       "      <th></th>\n",
       "    </tr>\n",
       "  </thead>\n",
       "  <tbody>\n",
       "    <tr>\n",
       "      <th rowspan=\"8\" valign=\"top\">False</th>\n",
       "      <th>count</th>\n",
       "      <td>58160.000000</td>\n",
       "    </tr>\n",
       "    <tr>\n",
       "      <th>mean</th>\n",
       "      <td>0.073596</td>\n",
       "    </tr>\n",
       "    <tr>\n",
       "      <th>std</th>\n",
       "      <td>0.193240</td>\n",
       "    </tr>\n",
       "    <tr>\n",
       "      <th>min</th>\n",
       "      <td>0.000000</td>\n",
       "    </tr>\n",
       "    <tr>\n",
       "      <th>25%</th>\n",
       "      <td>0.000000</td>\n",
       "    </tr>\n",
       "    <tr>\n",
       "      <th>50%</th>\n",
       "      <td>0.000000</td>\n",
       "    </tr>\n",
       "    <tr>\n",
       "      <th>75%</th>\n",
       "      <td>0.000000</td>\n",
       "    </tr>\n",
       "    <tr>\n",
       "      <th>max</th>\n",
       "      <td>1.000000</td>\n",
       "    </tr>\n",
       "    <tr>\n",
       "      <th rowspan=\"8\" valign=\"top\">True</th>\n",
       "      <th>count</th>\n",
       "      <td>58160.000000</td>\n",
       "    </tr>\n",
       "    <tr>\n",
       "      <th>mean</th>\n",
       "      <td>0.062880</td>\n",
       "    </tr>\n",
       "    <tr>\n",
       "      <th>std</th>\n",
       "      <td>0.174285</td>\n",
       "    </tr>\n",
       "    <tr>\n",
       "      <th>min</th>\n",
       "      <td>0.000000</td>\n",
       "    </tr>\n",
       "    <tr>\n",
       "      <th>25%</th>\n",
       "      <td>0.000000</td>\n",
       "    </tr>\n",
       "    <tr>\n",
       "      <th>50%</th>\n",
       "      <td>0.000000</td>\n",
       "    </tr>\n",
       "    <tr>\n",
       "      <th>75%</th>\n",
       "      <td>0.000000</td>\n",
       "    </tr>\n",
       "    <tr>\n",
       "      <th>max</th>\n",
       "      <td>1.000000</td>\n",
       "    </tr>\n",
       "  </tbody>\n",
       "</table>\n",
       "</div>"
      ],
      "text/plain": [
       "              deletion_rate\n",
       "random                     \n",
       "False  count   58160.000000\n",
       "       mean        0.073596\n",
       "       std         0.193240\n",
       "       min         0.000000\n",
       "       25%         0.000000\n",
       "       50%         0.000000\n",
       "       75%         0.000000\n",
       "       max         1.000000\n",
       "True   count   58160.000000\n",
       "       mean        0.062880\n",
       "       std         0.174285\n",
       "       min         0.000000\n",
       "       25%         0.000000\n",
       "       50%         0.000000\n",
       "       75%         0.000000\n",
       "       max         1.000000"
      ]
     },
     "execution_count": 60,
     "metadata": {},
     "output_type": "execute_result"
    }
   ],
   "source": [
    "undeduped_deletion_rates.groupby(\"random\").describe()"
   ]
  },
  {
   "cell_type": "markdown",
   "metadata": {},
   "source": [
    "There is an enrichment compared to the randomisations. Small but clearly present. The overlap is zero in the vast majority of cases. The important measure is the UMIs as a fractin of the +1 position - these are UMIs that are not real. The means are different, but the overlap is zero in the vast majoirty of cases. How many cases are they non-zero?"
   ]
  },
  {
   "cell_type": "code",
   "execution_count": 56,
   "metadata": {
    "collapsed": false
   },
   "outputs": [
    {
     "data": {
      "text/html": [
       "<div>\n",
       "<table border=\"1\" class=\"dataframe\">\n",
       "  <thead>\n",
       "    <tr style=\"text-align: right;\">\n",
       "      <th></th>\n",
       "      <th>deletion_rate</th>\n",
       "      <th>random</th>\n",
       "    </tr>\n",
       "    <tr>\n",
       "      <th>random</th>\n",
       "      <th></th>\n",
       "      <th></th>\n",
       "    </tr>\n",
       "  </thead>\n",
       "  <tbody>\n",
       "    <tr>\n",
       "      <th>False</th>\n",
       "      <td>13893</td>\n",
       "      <td>0</td>\n",
       "    </tr>\n",
       "    <tr>\n",
       "      <th>True</th>\n",
       "      <td>12846</td>\n",
       "      <td>58160</td>\n",
       "    </tr>\n",
       "  </tbody>\n",
       "</table>\n",
       "</div>"
      ],
      "text/plain": [
       "        deletion_rate  random\n",
       "random                       \n",
       "False           13893       0\n",
       "True            12846   58160"
      ]
     },
     "execution_count": 56,
     "metadata": {},
     "output_type": "execute_result"
    }
   ],
   "source": [
    "undeduped_deletion_rates.groupby(\"random\").apply(lambda x: (x>0).sum())"
   ]
  },
  {
   "cell_type": "markdown",
   "metadata": {},
   "source": [
    "Its a very small difference at this level. Some 300 positions or so. The real imporant descision is whether or not this enrichment is still present after deduplication. \n",
    "\n",
    "Compare to the deduped files:"
   ]
  },
  {
   "cell_type": "code",
   "execution_count": 61,
   "metadata": {
    "collapsed": false
   },
   "outputs": [],
   "source": [
    "deduped_umi_pos, deduped_umi_dist, deduped_bases = parse_samfile(\n",
    "    \"/ifs/projects/ians/umisdeduping/iCLIP_deduping/SR_iCLIP_test3/dedup_directional-adjacency.dir/Nxf1-GFP-R1.bam\")\n",
    "deduped_deletion_rates = calculate_deletion_rate(deduped_umi_pos, deduped_umi_dist, deduped_bases)"
   ]
  },
  {
   "cell_type": "code",
   "execution_count": 62,
   "metadata": {
    "collapsed": false
   },
   "outputs": [
    {
     "data": {
      "text/html": [
       "<div>\n",
       "<table border=\"1\" class=\"dataframe\">\n",
       "  <thead>\n",
       "    <tr style=\"text-align: right;\">\n",
       "      <th></th>\n",
       "      <th>deletion_rate</th>\n",
       "    </tr>\n",
       "    <tr>\n",
       "      <th>random</th>\n",
       "      <th></th>\n",
       "    </tr>\n",
       "  </thead>\n",
       "  <tbody>\n",
       "    <tr>\n",
       "      <th>False</th>\n",
       "      <td>0.053554</td>\n",
       "    </tr>\n",
       "    <tr>\n",
       "      <th>True</th>\n",
       "      <td>0.043328</td>\n",
       "    </tr>\n",
       "  </tbody>\n",
       "</table>\n",
       "</div>"
      ],
      "text/plain": [
       "        deletion_rate\n",
       "random               \n",
       "False        0.053554\n",
       "True         0.043328"
      ]
     },
     "execution_count": 62,
     "metadata": {},
     "output_type": "execute_result"
    }
   ],
   "source": [
    "deduped_deletion_rates.groupby(\"random\").mean()"
   ]
  },
  {
   "cell_type": "code",
   "execution_count": 63,
   "metadata": {
    "collapsed": false
   },
   "outputs": [
    {
     "data": {
      "text/html": [
       "<div>\n",
       "<table border=\"1\" class=\"dataframe\">\n",
       "  <thead>\n",
       "    <tr style=\"text-align: right;\">\n",
       "      <th></th>\n",
       "      <th>deletion_rate</th>\n",
       "      <th>random</th>\n",
       "    </tr>\n",
       "    <tr>\n",
       "      <th>random</th>\n",
       "      <th></th>\n",
       "      <th></th>\n",
       "    </tr>\n",
       "  </thead>\n",
       "  <tbody>\n",
       "    <tr>\n",
       "      <th>False</th>\n",
       "      <td>13107</td>\n",
       "      <td>0</td>\n",
       "    </tr>\n",
       "    <tr>\n",
       "      <th>True</th>\n",
       "      <td>11878</td>\n",
       "      <td>58160</td>\n",
       "    </tr>\n",
       "  </tbody>\n",
       "</table>\n",
       "</div>"
      ],
      "text/plain": [
       "        deletion_rate  random\n",
       "random                       \n",
       "False           13107       0\n",
       "True            11878   58160"
      ]
     },
     "execution_count": 63,
     "metadata": {},
     "output_type": "execute_result"
    }
   ],
   "source": [
    "deduped_deletion_rates.groupby(\"random\").apply(lambda x: (x>0).sum())"
   ]
  },
  {
   "cell_type": "markdown",
   "metadata": {},
   "source": [
    "The enrichment is smaller, but not by much. The biggest difference is that the there is a smaller number of overlapping positions in the randomised positions.\n",
    "\n",
    "How much are the enrichments:"
   ]
  },
  {
   "cell_type": "code",
   "execution_count": 64,
   "metadata": {
    "collapsed": false
   },
   "outputs": [
    {
     "data": {
      "text/plain": [
       "deletion_rate    1.170417\n",
       "dtype: float64"
      ]
     },
     "execution_count": 64,
     "metadata": {},
     "output_type": "execute_result"
    }
   ],
   "source": [
    "undeduped_means = undeduped_deletion_rates.groupby(\"random\").mean()\n",
    "undeduped_means.loc[0]/undeduped_means.loc[1]"
   ]
  },
  {
   "cell_type": "code",
   "execution_count": 65,
   "metadata": {
    "collapsed": false
   },
   "outputs": [
    {
     "data": {
      "text/plain": [
       "deletion_rate    1.236016\n",
       "dtype: float64"
      ]
     },
     "execution_count": 65,
     "metadata": {},
     "output_type": "execute_result"
    }
   ],
   "source": [
    "deduped_means = deduped_deletion_rates.groupby(\"random\").mean()\n",
    "deduped_means.loc[0]/deduped_means.loc[1]"
   ]
  },
  {
   "cell_type": "markdown",
   "metadata": {},
   "source": [
    "Run this computation for all of the samples in replicate 1. First wrap in function:"
   ]
  },
  {
   "cell_type": "code",
   "execution_count": 74,
   "metadata": {
    "collapsed": true
   },
   "outputs": [],
   "source": [
    "def run_complete_analysis(infile):\n",
    "    print \"analysing \", infile\n",
    "    umi_pos, umi_dist, bases = parse_samfile(infile)\n",
    "    deletion_rates = calculate_deletion_rate(umi_pos, umi_dist, bases)\n",
    "    return deletion_rates.groupby(\"random\").mean()\n"
   ]
  },
  {
   "cell_type": "markdown",
   "metadata": {},
   "source": [
    "Now find the deduplicated files"
   ]
  },
  {
   "cell_type": "code",
   "execution_count": 73,
   "metadata": {
    "collapsed": false
   },
   "outputs": [
    {
     "data": {
      "text/plain": [
       "SRSF5-GFP-R1.bam      /ifs/projects/ians/umisdeduping/iCLIP_deduping...\n",
       "SRSF7-GFP-R1.bam      /ifs/projects/ians/umisdeduping/iCLIP_deduping...\n",
       "Control-GFP-R1.bam    /ifs/projects/ians/umisdeduping/iCLIP_deduping...\n",
       "SRSF3-GFP-R1.bam      /ifs/projects/ians/umisdeduping/iCLIP_deduping...\n",
       "SRSF6-GFP-R1.bam      /ifs/projects/ians/umisdeduping/iCLIP_deduping...\n",
       "SRSF4-GFP-R1.bam      /ifs/projects/ians/umisdeduping/iCLIP_deduping...\n",
       "Nxf1-GFP-R1.bam       /ifs/projects/ians/umisdeduping/iCLIP_deduping...\n",
       "SRSF1-GFP-R1.bam      /ifs/projects/ians/umisdeduping/iCLIP_deduping...\n",
       "SRSF2-GFP-R1.bam      /ifs/projects/ians/umisdeduping/iCLIP_deduping...\n",
       "dtype: object"
      ]
     },
     "execution_count": 73,
     "metadata": {},
     "output_type": "execute_result"
    }
   ],
   "source": [
    "import glob\n",
    "import os\n",
    "infiles = pd.Series(glob.glob(\"/ifs/projects/ians/umisdeduping/iCLIP_deduping/SR_iCLIP_test3/mapping.dir/*R1.bam\"))\n",
    "infiles.index = infiles.apply(os.path.basename)\n",
    "infiles"
   ]
  },
  {
   "cell_type": "code",
   "execution_count": 79,
   "metadata": {
    "collapsed": false
   },
   "outputs": [
    {
     "name": "stdout",
     "output_type": "stream",
     "text": [
      "analysing  /ifs/projects/ians/umisdeduping/iCLIP_deduping/SR_iCLIP_test3/mapping.dir/SRSF5-GFP-R1.bam\n",
      "analysing  /ifs/projects/ians/umisdeduping/iCLIP_deduping/SR_iCLIP_test3/mapping.dir/SRSF7-GFP-R1.bam\n",
      "analysing  /ifs/projects/ians/umisdeduping/iCLIP_deduping/SR_iCLIP_test3/mapping.dir/Control-GFP-R1.bam\n",
      "analysing  /ifs/projects/ians/umisdeduping/iCLIP_deduping/SR_iCLIP_test3/mapping.dir/SRSF3-GFP-R1.bam\n",
      "analysing  /ifs/projects/ians/umisdeduping/iCLIP_deduping/SR_iCLIP_test3/mapping.dir/SRSF6-GFP-R1.bam\n",
      "analysing  /ifs/projects/ians/umisdeduping/iCLIP_deduping/SR_iCLIP_test3/mapping.dir/SRSF4-GFP-R1.bam\n",
      "analysing  /ifs/projects/ians/umisdeduping/iCLIP_deduping/SR_iCLIP_test3/mapping.dir/Nxf1-GFP-R1.bam\n",
      "analysing  /ifs/projects/ians/umisdeduping/iCLIP_deduping/SR_iCLIP_test3/mapping.dir/SRSF1-GFP-R1.bam\n",
      "analysing  /ifs/projects/ians/umisdeduping/iCLIP_deduping/SR_iCLIP_test3/mapping.dir/SRSF2-GFP-R1.bam\n"
     ]
    }
   ],
   "source": [
    "results = infiles.apply(run_complete_analysis)"
   ]
  },
  {
   "cell_type": "code",
   "execution_count": 102,
   "metadata": {
    "collapsed": false
   },
   "outputs": [
    {
     "data": {
      "text/plain": [
       "Control-GFP-R1.bam    2.604803\n",
       "Nxf1-GFP-R1.bam       1.164694\n",
       "SRSF1-GFP-R1.bam      1.174697\n",
       "SRSF2-GFP-R1.bam      1.726313\n",
       "SRSF3-GFP-R1.bam      1.337105\n",
       "SRSF4-GFP-R1.bam      1.204101\n",
       "SRSF5-GFP-R1.bam      1.188362\n",
       "SRSF6-GFP-R1.bam      1.083955\n",
       "SRSF7-GFP-R1.bam      1.879418\n",
       "dtype: float64"
      ]
     },
     "execution_count": 102,
     "metadata": {},
     "output_type": "execute_result"
    }
   ],
   "source": [
    "results[False]/results[True]"
   ]
  },
  {
   "cell_type": "code",
   "execution_count": 97,
   "metadata": {
    "collapsed": false
   },
   "outputs": [
    {
     "data": {
      "text/html": [
       "<div>\n",
       "<table border=\"1\" class=\"dataframe\">\n",
       "  <thead>\n",
       "    <tr style=\"text-align: right;\">\n",
       "      <th>random</th>\n",
       "      <th>False</th>\n",
       "      <th>True</th>\n",
       "    </tr>\n",
       "  </thead>\n",
       "  <tbody>\n",
       "    <tr>\n",
       "      <th>Control-GFP-R1.bam</th>\n",
       "      <td>0.064308</td>\n",
       "      <td>0.024688</td>\n",
       "    </tr>\n",
       "    <tr>\n",
       "      <th>Nxf1-GFP-R1.bam</th>\n",
       "      <td>0.073596</td>\n",
       "      <td>0.063189</td>\n",
       "    </tr>\n",
       "    <tr>\n",
       "      <th>SRSF1-GFP-R1.bam</th>\n",
       "      <td>0.030228</td>\n",
       "      <td>0.025733</td>\n",
       "    </tr>\n",
       "    <tr>\n",
       "      <th>SRSF2-GFP-R1.bam</th>\n",
       "      <td>0.083943</td>\n",
       "      <td>0.048625</td>\n",
       "    </tr>\n",
       "    <tr>\n",
       "      <th>SRSF3-GFP-R1.bam</th>\n",
       "      <td>0.029753</td>\n",
       "      <td>0.022252</td>\n",
       "    </tr>\n",
       "    <tr>\n",
       "      <th>SRSF4-GFP-R1.bam</th>\n",
       "      <td>0.061406</td>\n",
       "      <td>0.050998</td>\n",
       "    </tr>\n",
       "    <tr>\n",
       "      <th>SRSF5-GFP-R1.bam</th>\n",
       "      <td>0.051041</td>\n",
       "      <td>0.042951</td>\n",
       "    </tr>\n",
       "    <tr>\n",
       "      <th>SRSF6-GFP-R1.bam</th>\n",
       "      <td>0.020549</td>\n",
       "      <td>0.018958</td>\n",
       "    </tr>\n",
       "    <tr>\n",
       "      <th>SRSF7-GFP-R1.bam</th>\n",
       "      <td>0.090106</td>\n",
       "      <td>0.047944</td>\n",
       "    </tr>\n",
       "  </tbody>\n",
       "</table>\n",
       "</div>"
      ],
      "text/plain": [
       "random                 False     True \n",
       "Control-GFP-R1.bam  0.064308  0.024688\n",
       "Nxf1-GFP-R1.bam     0.073596  0.063189\n",
       "SRSF1-GFP-R1.bam    0.030228  0.025733\n",
       "SRSF2-GFP-R1.bam    0.083943  0.048625\n",
       "SRSF3-GFP-R1.bam    0.029753  0.022252\n",
       "SRSF4-GFP-R1.bam    0.061406  0.050998\n",
       "SRSF5-GFP-R1.bam    0.051041  0.042951\n",
       "SRSF6-GFP-R1.bam    0.020549  0.018958\n",
       "SRSF7-GFP-R1.bam    0.090106  0.047944"
      ]
     },
     "execution_count": 97,
     "metadata": {},
     "output_type": "execute_result"
    }
   ],
   "source": [
    "results"
   ]
  },
  {
   "cell_type": "markdown",
   "metadata": {},
   "source": [
    "What are these enrichments compared to the enrichments caused by edit_disatance enrichments?"
   ]
  },
  {
   "cell_type": "code",
   "execution_count": 76,
   "metadata": {
    "collapsed": false
   },
   "outputs": [
    {
     "data": {
      "text/html": [
       "<div>\n",
       "<table border=\"1\" class=\"dataframe\">\n",
       "  <thead>\n",
       "    <tr style=\"text-align: right;\">\n",
       "      <th></th>\n",
       "      <th>directional-adjacency</th>\n",
       "      <th>directional-adjacency_null</th>\n",
       "      <th>unique</th>\n",
       "      <th>unique_null</th>\n",
       "    </tr>\n",
       "    <tr>\n",
       "      <th>edit_distance</th>\n",
       "      <th></th>\n",
       "      <th></th>\n",
       "      <th></th>\n",
       "      <th></th>\n",
       "    </tr>\n",
       "  </thead>\n",
       "  <tbody>\n",
       "    <tr>\n",
       "      <th>Single_UMI</th>\n",
       "      <td>676164</td>\n",
       "      <td>676164</td>\n",
       "      <td>661329</td>\n",
       "      <td>661329</td>\n",
       "    </tr>\n",
       "    <tr>\n",
       "      <th>0</th>\n",
       "      <td>0</td>\n",
       "      <td>31</td>\n",
       "      <td>0</td>\n",
       "      <td>37</td>\n",
       "    </tr>\n",
       "    <tr>\n",
       "      <th>1</th>\n",
       "      <td>137</td>\n",
       "      <td>388</td>\n",
       "      <td>14791</td>\n",
       "      <td>592</td>\n",
       "    </tr>\n",
       "    <tr>\n",
       "      <th>2</th>\n",
       "      <td>3312</td>\n",
       "      <td>2311</td>\n",
       "      <td>3540</td>\n",
       "      <td>3511</td>\n",
       "    </tr>\n",
       "    <tr>\n",
       "      <th>3</th>\n",
       "      <td>7697</td>\n",
       "      <td>7980</td>\n",
       "      <td>8181</td>\n",
       "      <td>11627</td>\n",
       "    </tr>\n",
       "    <tr>\n",
       "      <th>4</th>\n",
       "      <td>43520</td>\n",
       "      <td>43954</td>\n",
       "      <td>43709</td>\n",
       "      <td>50401</td>\n",
       "    </tr>\n",
       "    <tr>\n",
       "      <th>5</th>\n",
       "      <td>8595</td>\n",
       "      <td>8597</td>\n",
       "      <td>7875</td>\n",
       "      <td>11928</td>\n",
       "    </tr>\n",
       "    <tr>\n",
       "      <th>6</th>\n",
       "      <td>0</td>\n",
       "      <td>0</td>\n",
       "      <td>0</td>\n",
       "      <td>0</td>\n",
       "    </tr>\n",
       "  </tbody>\n",
       "</table>\n",
       "</div>"
      ],
      "text/plain": [
       "               directional-adjacency  directional-adjacency_null  unique  \\\n",
       "edit_distance                                                              \n",
       "Single_UMI                    676164                      676164  661329   \n",
       "0                                  0                          31       0   \n",
       "1                                137                         388   14791   \n",
       "2                               3312                        2311    3540   \n",
       "3                               7697                        7980    8181   \n",
       "4                              43520                       43954   43709   \n",
       "5                               8595                        8597    7875   \n",
       "6                                  0                           0       0   \n",
       "\n",
       "               unique_null  \n",
       "edit_distance               \n",
       "Single_UMI          661329  \n",
       "0                       37  \n",
       "1                      592  \n",
       "2                     3511  \n",
       "3                    11627  \n",
       "4                    50401  \n",
       "5                    11928  \n",
       "6                        0  "
      ]
     },
     "execution_count": 76,
     "metadata": {},
     "output_type": "execute_result"
    }
   ],
   "source": [
    "edit_distance = pd.read_csv(\n",
    "    \"/ifs/projects/ians/umisdeduping/iCLIP_deduping/SR_iCLIP_test3/dedup_directional-adjacency.dir/Nxf1-GFP-R2_edit_distance.tsv\", sep=\"\\t\")\n",
    "edit_distance = edit_distance.set_index(\"edit_distance\")\n",
    "edit_distance\n"
   ]
  },
  {
   "cell_type": "code",
   "execution_count": 77,
   "metadata": {
    "collapsed": false
   },
   "outputs": [],
   "source": [
    "edit_distance_fractions = edit_distance.drop(\"Single_UMI\", axis=0).apply(lambda x: x/sum(x))"
   ]
  },
  {
   "cell_type": "code",
   "execution_count": 78,
   "metadata": {
    "collapsed": false
   },
   "outputs": [
    {
     "data": {
      "text/plain": [
       "edit_distance\n",
       "0     0.000000\n",
       "1    24.984797\n",
       "2     1.008260\n",
       "3     0.703621\n",
       "4     0.867225\n",
       "5     0.660211\n",
       "6          NaN\n",
       "dtype: float64"
      ]
     },
     "execution_count": 78,
     "metadata": {},
     "output_type": "execute_result"
    }
   ],
   "source": [
    "edit_distance_fractions[\"unique\"]/edit_distance_fractions[\"unique_null\"]"
   ]
  },
  {
   "cell_type": "markdown",
   "metadata": {},
   "source": [
    "So the substitution errors are a 25x enrichment, rather than a 1.3 fold enrichment for the deletions. "
   ]
  }
 ],
 "metadata": {
  "kernelspec": {
   "display_name": "Python 2",
   "language": "python",
   "name": "python2"
  },
  "language_info": {
   "codemirror_mode": {
    "name": "ipython",
    "version": 2
   },
   "file_extension": ".py",
   "mimetype": "text/x-python",
   "name": "python",
   "nbconvert_exporter": "python",
   "pygments_lexer": "ipython2",
   "version": "2.7.11"
  }
 },
 "nbformat": 4,
 "nbformat_minor": 0
}
