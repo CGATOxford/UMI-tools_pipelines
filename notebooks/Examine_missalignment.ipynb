{
 "cells": [
  {
   "cell_type": "code",
   "execution_count": 29,
   "metadata": {
    "collapsed": false
   },
   "outputs": [
    {
     "name": "stdout",
     "output_type": "stream",
     "text": [
      "The rpy2.ipython extension is already loaded. To reload it, use:\n",
      "  %reload_ext rpy2.ipython\n"
     ]
    }
   ],
   "source": [
    "import pysam\n",
    "import collections\n",
    "import random\n",
    "import pandas as pd\n",
    "import numpy as np\n",
    "%load_ext rpy2.ipython\n"
   ]
  },
  {
   "cell_type": "code",
   "execution_count": 30,
   "metadata": {
    "collapsed": true
   },
   "outputs": [],
   "source": [
    "infile = \"/ifs/projects/ians/umisdeduping/iCLIP_deduping/SR_iCLIP_test3/mapping.dir/Nxf1-GFP-R1.bam\""
   ]
  },
  {
   "cell_type": "markdown",
   "metadata": {},
   "source": [
    "This notebook contains test code to examine whether UMIs at adjacent positions are more similar to one another than we would expect by chance. To test this we will parse the bam file and fill a dictionary: key=\"[contig][position]\", value= counter of UMIs for each position. Then we'll parse the dictionary keys and look to see whether the positions -5, -4 .. to .. +4, +5 exist in the dictionary keys. If they do, we'll compare the umi profiles between the postions (how to do this). We'll also compare with n random positions (will need to see how large n can get before this takes too long).\n",
    "\n",
    "First, we need to work out how to best compare the UMIs at two positions...\n",
    "\n",
    "So, what we're really interested in is whether we see the same UMIs at pos1 and pos2. We could look at the intersection of UMIs ignoring the counts and calculate the \"fraction intersection\". For a more accurate assesment we could add the counts in as weights within this calculation. Where we have two positions with high depth, we would expect a greater intersection fraction. However, when we're comparing pos1 and pos2, the depth at pos2 should be independent of whether it's -1, +1, +5 or a random position. Therefore, we can ignore this (I think!). We'll perform the same comparison with a random position as well which should give us a benchmark for how much similarity we expect by chance.\n",
    "\n",
    "Ultimately, we want a line graph with position on x, fraction intersection on y and two lines (random or non-random)\n",
    "\n",
    "Let's start with a function to determine fraction intersection"
   ]
  },
  {
   "cell_type": "code",
   "execution_count": 31,
   "metadata": {
    "collapsed": false
   },
   "outputs": [
    {
     "name": "stdout",
     "output_type": "stream",
     "text": [
      "Counter({'GCGAT': 150, 'ATAGT': 100, 'AGTAG': 10})\n",
      "Counter({'GACAG': 1000, 'CCAGA': 20, 'ATAGT': 2})\n"
     ]
    }
   ],
   "source": [
    "umis1 = collections.Counter()\n",
    "umis2 = collections.Counter()\n",
    "umis1[\"ATAGT\"] = 100\n",
    "umis1[\"AGTAG\"] = 10\n",
    "umis1[\"GCGAT\"] = 150\n",
    "\n",
    "umis2[\"ATAGT\"] = 2\n",
    "umis2[\"GACAG\"] = 1000\n",
    "umis2[\"CCAGA\"] = 20\n",
    "\n",
    "print umis1\n",
    "print umis2"
   ]
  },
  {
   "cell_type": "code",
   "execution_count": 32,
   "metadata": {
    "collapsed": false
   },
   "outputs": [
    {
     "data": {
      "text/plain": [
       "(0.16666666666666666, 6)"
      ]
     },
     "execution_count": 32,
     "metadata": {},
     "output_type": "execute_result"
    }
   ],
   "source": [
    "def getIntersecionFraction(counter1, counter2):\n",
    "    ''' for two counters with string keys,\n",
    "    return the fraction of intersecting keys'''\n",
    "    \n",
    "    set1 = set(counter1.keys())\n",
    "    set2 = set(counter2.keys())\n",
    "    total = len(set1) + len(set2)\n",
    "    fraction = float(len(set1.intersection(set2))) / total\n",
    "    \n",
    "    return fraction, total\n",
    "\n",
    "getIntersecionFraction(umis1, umis2)"
   ]
  },
  {
   "cell_type": "code",
   "execution_count": 33,
   "metadata": {
    "collapsed": false
   },
   "outputs": [
    {
     "data": {
      "text/plain": [
       "(0.07956318252730109, 1282)"
      ]
     },
     "execution_count": 33,
     "metadata": {},
     "output_type": "execute_result"
    }
   ],
   "source": [
    "def getWeightedIntersecionFraction(counter1, counter2):\n",
    "    ''' for two counters with string keys,\n",
    "    return the fraction of intersecting keys,\n",
    "    weighted by the counts of each key'''\n",
    "        \n",
    "    set1 = set(counter1.keys())\n",
    "    set2 = set(counter2.keys())\n",
    "    intersection = set1.intersection(set2)\n",
    "    intersection_counts = 0\n",
    "\n",
    "    for i in intersection:\n",
    "        intersection_counts += counter1[i]\n",
    "        intersection_counts += counter2[i]\n",
    "\n",
    "    total = sum(counter1.values()) + sum(counter2.values())\n",
    "    fraction = float(intersection_counts) / total\n",
    "\n",
    "    return fraction, total\n",
    "\n",
    "getWeightedIntersecionFraction(umis1, umis2)"
   ]
  },
  {
   "cell_type": "markdown",
   "metadata": {},
   "source": [
    "now let's parse a bam and create the dictionary."
   ]
  },
  {
   "cell_type": "code",
   "execution_count": 34,
   "metadata": {
    "collapsed": false
   },
   "outputs": [],
   "source": [
    "insam = pysam.Samfile(infile, \"rb\")\n",
    "\n",
    "umi_pos = collections.defaultdict(lambda:collections.defaultdict(lambda: collections.Counter()))\n",
    "umi_dist=collections.Counter()\n",
    "inreads = insam.fetch()#reference=chrom)\n",
    "for read in inreads:\n",
    "    if read.is_unmapped:\n",
    "        continue\n",
    "\n",
    "    if read.mate_is_unmapped and paired:\n",
    "        continue\n",
    "\n",
    "    if read.is_read2:\n",
    "        continue\n",
    "\n",
    "    is_spliced = False\n",
    "\n",
    "    if read.is_reverse:\n",
    "        pos = read.aend\n",
    "        if read.cigar[-1][0] == 4:\n",
    "            pos = pos + read.cigar[-1][1]\n",
    "        start = read.pos\n",
    "\n",
    "        if ('N' in read.cigarstring or\n",
    "            (read.cigar[0][0] == 4 and\n",
    "             read.cigar[0][1] > soft_clip_threshold)):\n",
    "            is_spliced = True\n",
    "    else:\n",
    "        pos = read.pos\n",
    "        if read.cigar[0][0] == 4:\n",
    "            pos = pos - read.cigar[0][1]\n",
    "        start = pos\n",
    "\n",
    "        if ('N' in read.cigarstring or\n",
    "            (read.cigar[-1][0] == 4 and\n",
    "             read.cigar[-1][1] > soft_clip_threshold)):\n",
    "            is_spliced = True\n",
    "\n",
    "    umi = read.qname.split(\"_\")[-1]\n",
    "    \n",
    "    umi_pos[insam.get_reference_name(read.tid)][pos][umi] += 1\n",
    "    umi_dist[umi] += 1\n",
    "    "
   ]
  },
  {
   "cell_type": "code",
   "execution_count": 35,
   "metadata": {
    "collapsed": false
   },
   "outputs": [
    {
     "data": {
      "text/plain": [
       "[(0, 23)]"
      ]
     },
     "execution_count": 35,
     "metadata": {},
     "output_type": "execute_result"
    }
   ],
   "source": [
    "read.cigar"
   ]
  },
  {
   "cell_type": "code",
   "execution_count": 36,
   "metadata": {
    "collapsed": false
   },
   "outputs": [
    {
     "name": "stdout",
     "output_type": "stream",
     "text": [
      "22\n",
      "1359158\n"
     ]
    }
   ],
   "source": [
    "n = 0\n",
    "print len(umi_pos)\n",
    "for k,v in umi_pos.iteritems():\n",
    "    n += len(v)\n",
    "print n"
   ]
  },
  {
   "cell_type": "markdown",
   "metadata": {},
   "source": [
    "Now we need to go through the positions for each contig and compare the UMIs at each position with the UMIs at positions up and downstream and a random position, then build a dataframe.\n",
    "\n",
    "The final dataframe contains a single value for each distance up and downstream which is the weighted average of the intersection from each position using the counts per position as the weights. "
   ]
  },
  {
   "cell_type": "code",
   "execution_count": 38,
   "metadata": {
    "collapsed": false
   },
   "outputs": [
    {
     "name": "stdout",
     "output_type": "stream",
     "text": [
      "   control  fraction_intersection  position\n",
      "0        0               0.078655       -10\n",
      "1        0               0.078525        -9\n",
      "2        0               0.078756        -8\n",
      "3        0               0.078228        -7\n",
      "4        0               0.074583        -6\n"
     ]
    }
   ],
   "source": [
    "up_pad = -10\n",
    "down_pad = 10\n",
    "\n",
    "######### calculate intersection ############\n",
    "intersection_fraction_dict = collections.defaultdict(list)\n",
    "weighted_intersection_fraction_dict = collections.defaultdict(list)\n",
    "random_intersection_fraction_dict = collections.defaultdict(list)\n",
    "random_weighted_intersection_fraction_dict = collections.defaultdict(list)\n",
    "for contig in umi_pos:\n",
    "    for position in umi_pos[contig]:\n",
    "        for distance in range(up_pad, down_pad +1, 1):\n",
    "            if distance == 0:\n",
    "                continue\n",
    "            if (position + distance) in umi_pos[contig]:\n",
    "\n",
    "                random_contig = random.choice(umi_pos.keys())\n",
    "                random_pos = random.choice(umi_pos[random_contig].keys())\n",
    "                intersection_fraction_dict[distance].append(getIntersecionFraction(\n",
    "                        umi_pos[contig][position], umi_pos[contig][position + distance]))\n",
    "                weighted_intersection_fraction_dict[distance].append(getWeightedIntersecionFraction(\n",
    "                        umi_pos[contig][position], umi_pos[contig][position + distance]))\n",
    "                random_intersection_fraction_dict[distance].append(getIntersecionFraction(\n",
    "                        umi_pos[contig][position], umi_pos[random_contig][random_pos]))\n",
    "                random_weighted_intersection_fraction_dict[distance].append(getWeightedIntersecionFraction(\n",
    "                        umi_pos[contig][position], umi_pos[random_contig][random_pos]))\n",
    "                \n",
    "######### get average intersection ############\n",
    "positions = []\n",
    "fraction_intersection = []\n",
    "random_fraction_intersection = []\n",
    "\n",
    "for distance in range(up_pad, down_pad +1,1):\n",
    "    \n",
    "    total = 0\n",
    "    total_fraction = 0\n",
    "    random_total = 0\n",
    "    random_fraction = 0\n",
    "\n",
    "    positions.append(distance)\n",
    "\n",
    "    if distance == 0:\n",
    "        fraction_intersection.append(np.nan)\n",
    "        random_fraction_intersection.append(np.nan)\n",
    "        continue\n",
    "\n",
    "    for fraction, count in intersection_fraction_dict[distance]:\n",
    "        total += count\n",
    "        total_fraction += fraction * count\n",
    "\n",
    "    for fraction, count in random_intersection_fraction_dict[distance]:\n",
    "        random_total += count\n",
    "        random_fraction += fraction * count\n",
    "    \n",
    "    fraction_intersection.append(total_fraction/total)\n",
    "    random_fraction_intersection.append(random_fraction/random_total)\n",
    "\n",
    "######### build dataframe ############\n",
    "control = [0,]* len(positions)\n",
    "control.extend([1,]* len(positions))\n",
    "fraction_intersection.extend(random_fraction_intersection)\n",
    "positions *= 2\n",
    "\n",
    "df = pd.DataFrame({\"control\":control,\n",
    "                   \"fraction_intersection\":fraction_intersection,\n",
    "                   \"position\": positions})\n",
    "print df.head()"
   ]
  },
  {
   "cell_type": "code",
   "execution_count": 39,
   "metadata": {
    "collapsed": false
   },
   "outputs": [
    {
     "data": {
      "image/png": "[encoded data removed]"
     },
     "metadata": {},
     "output_type": "display_data"
    }
   ],
   "source": [
    "%%R -i df -w 800 -h 800\n",
    "library(ggplot2)\n",
    "library(grid)\n",
    "m_txt = element_text(size=20)\n",
    "\n",
    "p = ggplot(df, aes(position, fraction_intersection, colour=as.factor(control), group=control)) +\n",
    "geom_line(size=2, aes(linetype=as.factor(control))) +\n",
    "scale_colour_manual(name=\"\", values=c(\"black\", \"grey50\"), labels=c(\"Observed\\nUMIs\", \"Null\")) +\n",
    "scale_linetype_discrete(name=\"\", labels=c(\"Observed\\nUMIs\", \"Null\")) +\n",
    "xlab(\"Position\") + ylab(\"Fraction intersecting UMIs\") +\n",
    "scale_x_continuous(breaks=seq(-10,10,1), limits=c(-10,10)) +\n",
    "theme_bw() + \n",
    "theme(\n",
    "axis.text=m_txt,\n",
    "axis.title=m_txt,\n",
    "legend.text=m_txt,\n",
    "legend.key.size=unit(2, \"cm\"),\n",
    "legend.key = element_blank(),\n",
    "aspect.ratio=1)\n",
    "\n",
    "print(p)"
   ]
  },
  {
   "cell_type": "markdown",
   "metadata": {},
   "source": [
    "I think that this is probably because positions close in space are likely to be highly expressed, and therefore cover a large amount of UMI space, leading to a high overlap.\n",
    "\n",
    "Two ways around this:\n",
    "1) Simulate a position with a similar number of UMIs or a similar number of reads\n",
    "\n",
    "or\n",
    "\n",
    "2) Pick a base with the same number of UMIS\n",
    "\n",
    "Two is probably easier to do, so lets do that.\n",
    "\n",
    "First need to generate the distribution"
   ]
  },
  {
   "cell_type": "code",
   "execution_count": 40,
   "metadata": {
    "collapsed": false
   },
   "outputs": [],
   "source": [
    "umi_dist = collections.Counter()\n",
    "for contig in umi_pos:\n",
    "    for position in umi_pos[contig]:\n",
    "        umi_dist += umi_pos[contig][position]"
   ]
  },
  {
   "cell_type": "code",
   "execution_count": 41,
   "metadata": {
    "collapsed": false
   },
   "outputs": [],
   "source": [
    "umi_dist = pd.Series(umi_dist, name=\"count\").reset_index()\n",
    "umi_dist[\"freq\"] = umi_dist[\"count\"] / umi_dist[\"count\"].sum()\n"
   ]
  },
  {
   "cell_type": "code",
   "execution_count": 42,
   "metadata": {
    "collapsed": false
   },
   "outputs": [
    {
     "name": "stdout",
     "output_type": "stream",
     "text": [
      "   control  fraction_intersection  position\n",
      "0        0               0.078655       -10\n",
      "1        0               0.078525        -9\n",
      "2        0               0.078756        -8\n",
      "3        0               0.078228        -7\n",
      "4        0               0.074583        -6\n"
     ]
    }
   ],
   "source": [
    "######### calculate intersection ############\n",
    "intersection_fraction_dict = collections.defaultdict(list)\n",
    "weighted_intersection_fraction_dict = collections.defaultdict(list)\n",
    "random_intersection_fraction_dict = collections.defaultdict(list)\n",
    "random_weighted_intersection_fraction_dict = collections.defaultdict(list)\n",
    "for contig in umi_pos:\n",
    "    for position in umi_pos[contig]:\n",
    "        for distance in range(up_pad, down_pad +1, 1):\n",
    "            if distance == 0:\n",
    "                continue\n",
    "            if (position + distance) in umi_pos[contig]:\n",
    "\n",
    "                this = umi_pos[contig][position]\n",
    "                other = umi_pos[contig][position + distance]\n",
    "                rand_other = {umi: count for umi, count in \n",
    "                              zip(np.random.choice(umi_dist[\"index\"], \n",
    "                                                   size=len(other.keys()),\n",
    "                                                   replace=False,\n",
    "                                                   p=umi_dist[\"freq\"]),\n",
    "                                  other.values())}\n",
    "                intersection_fraction_dict[distance].append(getIntersecionFraction(this, other))\n",
    "                weighted_intersection_fraction_dict[distance].append(getWeightedIntersecionFraction(\n",
    "                        this, other))\n",
    "                random_intersection_fraction_dict[distance].append(getIntersecionFraction(\n",
    "                        this, rand_other))\n",
    "                random_weighted_intersection_fraction_dict[distance].append(getWeightedIntersecionFraction(\n",
    "                        this, rand_other))\n",
    "                \n",
    "######### get average intersection ############\n",
    "positions = []\n",
    "fraction_intersection = []\n",
    "random_fraction_intersection = []\n",
    "\n",
    "for distance in range(up_pad, down_pad +1,1):\n",
    "    \n",
    "    total = 0\n",
    "    total_fraction = 0\n",
    "    random_total = 0\n",
    "    random_fraction = 0\n",
    "\n",
    "    positions.append(distance)\n",
    "\n",
    "    if distance == 0:\n",
    "        fraction_intersection.append(np.nan)\n",
    "        random_fraction_intersection.append(np.nan)\n",
    "        continue\n",
    "\n",
    "    for fraction, count in intersection_fraction_dict[distance]:\n",
    "        total += count\n",
    "        total_fraction += fraction * count\n",
    "\n",
    "    for fraction, count in random_intersection_fraction_dict[distance]:\n",
    "        random_total += count\n",
    "        random_fraction += fraction * count\n",
    "    \n",
    "    fraction_intersection.append(total_fraction/total)\n",
    "    random_fraction_intersection.append(random_fraction/random_total)\n",
    "\n",
    "######### build dataframe ############\n",
    "control = [0,]* len(positions)\n",
    "control.extend([1,]* len(positions))\n",
    "fraction_intersection.extend(random_fraction_intersection)\n",
    "positions *= 2\n",
    "\n",
    "df = pd.DataFrame({\"control\":control,\n",
    "                   \"fraction_intersection\":fraction_intersection,\n",
    "                   \"position\": positions})\n",
    "print df.head()"
   ]
  },
  {
   "cell_type": "code",
   "execution_count": 43,
   "metadata": {
    "collapsed": false
   },
   "outputs": [
    {
     "data": {
      "image/png": "[encoded data removed]"
     },
     "metadata": {},
     "output_type": "display_data"
    }
   ],
   "source": [
    "%%R -i df -w 800 -h 800\n",
    "library(ggplot2)\n",
    "library(grid)\n",
    "m_txt = element_text(size=20)\n",
    "\n",
    "p = ggplot(df, aes(position, fraction_intersection, colour=as.factor(control), group=control)) +\n",
    "geom_line(size=2, aes(linetype=as.factor(control))) +\n",
    "scale_colour_manual(name=\"\", values=c(\"black\", \"grey50\"), labels=c(\"Observed\\nUMIs\", \"Null\")) +\n",
    "scale_linetype_discrete(name=\"\", labels=c(\"Observed\\nUMIs\", \"Null\")) +\n",
    "xlab(\"Position\") + ylab(\"Fraction intersecting UMIs\") +\n",
    "scale_x_continuous(breaks=seq(-10,10,1), limits=c(-10,10)) +\n",
    "theme_bw() + \n",
    "theme(\n",
    "axis.text=m_txt,\n",
    "axis.title=m_txt,\n",
    "legend.text=m_txt,\n",
    "legend.key.size=unit(2, \"cm\"),\n",
    "legend.key = element_blank(),\n",
    "aspect.ratio=1)\n",
    "\n",
    "print(p)"
   ]
  }
 ],
 "metadata": {
  "kernelspec": {
   "display_name": "Python 2",
   "language": "python",
   "name": "python2"
  },
  "language_info": {
   "codemirror_mode": {
    "name": "ipython",
    "version": 2
   },
   "file_extension": ".py",
   "mimetype": "text/x-python",
   "name": "python",
   "nbconvert_exporter": "python",
   "pygments_lexer": "ipython2",
   "version": "2.7.11"
  }
 },
 "nbformat": 4,
 "nbformat_minor": 0
}
